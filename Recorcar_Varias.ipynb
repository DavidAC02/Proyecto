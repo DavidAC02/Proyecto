{
 "cells": [
  {
   "cell_type": "code",
   "execution_count": 1,
   "id": "22375c87-76c9-4bef-9769-8e4a08372d52",
   "metadata": {
    "tags": []
   },
   "outputs": [],
   "source": [
    "import cv2\n",
    "import numpy as np\n",
    "import matplotlib.pyplot as plt\n",
    "import glob\n",
    "import os"
   ]
  },
  {
   "cell_type": "code",
   "execution_count": 2,
   "id": "9e33d157-1429-4d34-bf40-526a4a27b47e",
   "metadata": {},
   "outputs": [],
   "source": [
    "def recortar(imagen):\n",
    "    for im in glob.glob(\"Usuario/*.jpg\"):\n",
    "        try:\n",
    "            os.remove(im)\n",
    "        except OSError as e:\n",
    "            print(f\"Error:{ e.strerror}\")    \n",
    "    image = cv2.imread(imagen,cv2.IMREAD_GRAYSCALE)\n",
    "    gradX = cv2.Sobel(image, cv2.CV_32F, dx=1, dy=0, ksize=-1)\n",
    "    gradY = cv2.Sobel(image, cv2.CV_32F, dx=0, dy=1, ksize=-1)\n",
    "    gradient = cv2.subtract(gradX, gradY)\n",
    "    gradient = cv2.convertScaleAbs(gradient)\n",
    "    blurred = cv2.blur(gradient, (9, 9))\n",
    "    _, thresh = cv2.threshold(blurred, 90, 255, cv2.THRESH_BINARY)\n",
    "    kernel = cv2.getStructuringElement(cv2.MORPH_RECT, (25, 25))\n",
    "    closed = cv2.morphologyEx(thresh, cv2.MORPH_CLOSE, kernel)\n",
    "    closed = cv2.erode(closed, None, iterations=4)\n",
    "    closed = cv2.dilate(closed, None, iterations=4)\n",
    "    a=100\n",
    "    c=0\n",
    "    Imagen=closed\n",
    "    while a>2:\n",
    "        (cntsf, xf) = cv2.findContours(Imagen.copy(), cv2.RETR_EXTERNAL, cv2.CHAIN_APPROX_SIMPLE)\n",
    "        cf = sorted(cntsf, key=cv2.contourArea, reverse=True)[0]\n",
    "        rectf = cv2.minAreaRect(cf)\n",
    "        boxf = np.int0(cv2.boxPoints(rectf))\n",
    "        Xsf = [i[0] for i in boxf]\n",
    "        Ysf = [i[1] for i in boxf]\n",
    "        x1f = min(Xsf)\n",
    "        x2f = max(Xsf)\n",
    "        y1f = min(Ysf)\n",
    "        y2f = max(Ysf)\n",
    "        cropImgf= image[y1f:y2f, x1f:x2f]\n",
    "        #plt.imshow(cropImgf)\n",
    "        C=str(c)\n",
    "        cv2.imwrite(\"Usuario/imagen\"+C+\".jpg\", cropImgf)\n",
    "        #HASTA AQUI SE HIZO TODO UNA VEZ\n",
    "        b=0\n",
    "        dimensionesf = (closed.shape[0],closed.shape[1])\n",
    "        arrayf=np.zeros(dimensionesf)\n",
    "        for i in range(closed.shape[1]):\n",
    "            for j in range(closed.shape[0]):\n",
    "                if (x1f < i < x2f and y1f < j < y2f):\n",
    "                    arrayf[j,i]=0\n",
    "                else:\n",
    "                    arrayf[j,i]=Imagen[j,i]\n",
    "        for i in range(closed.shape[1]):\n",
    "            for j in range(closed.shape[0]):\n",
    "                if (arrayf[j,i]>0):\n",
    "                    b=b+1\n",
    "        a=(b*100)/(closed.shape[0]*closed.shape[1])\n",
    "        c=c+1\n",
    "        Imagen= np.uint8(arrayf)"
   ]
  },
  {
   "cell_type": "code",
   "execution_count": 3,
   "id": "e9cd03b2-086b-459a-beec-95a2bc2d4474",
   "metadata": {},
   "outputs": [],
   "source": [
    "recortar(\"Pulpo.png\")"
   ]
  }
 ],
 "metadata": {
  "kernelspec": {
   "display_name": "Python 3",
   "language": "python",
   "name": "python3"
  },
  "language_info": {
   "codemirror_mode": {
    "name": "ipython",
    "version": 3
   },
   "file_extension": ".py",
   "mimetype": "text/x-python",
   "name": "python",
   "nbconvert_exporter": "python",
   "pygments_lexer": "ipython3",
   "version": "3.8.8"
  }
 },
 "nbformat": 4,
 "nbformat_minor": 5
}
