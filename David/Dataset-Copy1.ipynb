{
 "cells": [
  {
   "cell_type": "code",
   "execution_count": 24,
   "id": "c15ff779-95a7-4558-bd31-757fe3cfbf68",
   "metadata": {},
   "outputs": [],
   "source": [
    "import cv2\n",
    "import os\n",
    "import numpy as np\n",
    "import matplotlib.pyplot as plt\n",
    "import random\n",
    "import pickle\n",
    "from sklearn.model_selection import train_test_split\n",
    "from sklearn.neighbors import KNeighborsClassifier\n",
    "from sklearn.decomposition import PCA"
   ]
  },
  {
   "cell_type": "code",
   "execution_count": 25,
   "id": "c056c126-a251-4c24-8507-6ad26a18483e",
   "metadata": {},
   "outputs": [],
   "source": [
    "pickle_in = open('X.pickle','rb')\n",
    "X = pickle.load(pickle_in)\n",
    "pickle_in = open('y.pickle','rb')\n",
    "y = pickle.load(pickle_in)\n",
    "pickle_in = open('Z.pickle','rb')\n",
    "Z = pickle.load(pickle_in)"
   ]
  },
  {
   "cell_type": "code",
   "execution_count": 26,
   "id": "6c544c49-4503-4f30-b6af-86721816e70e",
   "metadata": {},
   "outputs": [],
   "source": [
    "# Divido entre datos de entrenamiento y de prueba\n",
    "X_train, X_test, y_train, y_test, Z_train, Z_test = train_test_split(X, y, Z, stratify=y, random_state=0)"
   ]
  },
  {
   "cell_type": "code",
   "execution_count": 27,
   "id": "6e91e719-96c3-4607-93f0-230929df8a27",
   "metadata": {},
   "outputs": [
    {
     "data": {
      "text/plain": [
       "KNeighborsClassifier(n_neighbors=1)"
      ]
     },
     "execution_count": 27,
     "metadata": {},
     "output_type": "execute_result"
    }
   ],
   "source": [
    "knn = KNeighborsClassifier(n_neighbors=1)\n",
    "knn.fit(X_train, y_train)"
   ]
  },
  {
   "cell_type": "code",
   "execution_count": 28,
   "id": "d99b6a1c-751c-40a1-94f7-e4d407e45b99",
   "metadata": {},
   "outputs": [
    {
     "data": {
      "text/plain": [
       "0.9508196721311475"
      ]
     },
     "execution_count": 28,
     "metadata": {},
     "output_type": "execute_result"
    }
   ],
   "source": [
    "knn.score(X_test, y_test)"
   ]
  },
  {
   "cell_type": "code",
   "execution_count": 17,
   "id": "1f176541-ffdc-402f-853e-74afe49ad545",
   "metadata": {},
   "outputs": [
    {
     "data": {
      "text/plain": [
       "61"
      ]
     },
     "execution_count": 17,
     "metadata": {},
     "output_type": "execute_result"
    }
   ],
   "source": [
    "len(y_test)"
   ]
  },
  {
   "cell_type": "code",
   "execution_count": 61,
   "id": "a7bb3786-8dd4-4cd5-ab6f-21e04038e185",
   "metadata": {},
   "outputs": [
    {
     "name": "stdout",
     "output_type": "stream",
     "text": [
      "FALLÓ\n",
      "el modelo dice que vale: [1]\n",
      "El verdadero valor es 0\n",
      "25\n",
      "___________________________________\n",
      "FALLÓ\n",
      "el modelo dice que vale: [4]\n",
      "El verdadero valor es 5\n",
      "38\n",
      "___________________________________\n",
      "FALLÓ\n",
      "el modelo dice que vale: [2]\n",
      "El verdadero valor es 5\n",
      "47\n",
      "___________________________________\n",
      "Total de aciertos: 58 . Porcentaje de acierto: 0.9508196721311475\n"
     ]
    },
    {
     "data": {
      "text/plain": [
       "[25, 38, 47]"
      ]
     },
     "execution_count": 61,
     "metadata": {},
     "output_type": "execute_result"
    }
   ],
   "source": [
    "a=0\n",
    "V=[]\n",
    "for i in range(61):\n",
    "   \n",
    "    if (knn.predict([X_test[i]])==y_test[i]):\n",
    "        #print('ACERTÓ')\n",
    "        a=a+1\n",
    "    else:\n",
    "        print('FALLÓ')\n",
    "        print('el modelo dice que vale:',knn.predict([X_test[i]]))\n",
    "        print('El verdadero valor es', y_test[i])\n",
    "        V.append(i)\n",
    "        print(i)\n",
    "        print('___________________________________')\n",
    "print('Total de aciertos:',a,'. Porcentaje de acierto:',a/61)\n",
    "V"
   ]
  }
 ],
 "metadata": {
  "kernelspec": {
   "display_name": "Python 3",
   "language": "python",
   "name": "python3"
  },
  "language_info": {
   "codemirror_mode": {
    "name": "ipython",
    "version": 3
   },
   "file_extension": ".py",
   "mimetype": "text/x-python",
   "name": "python",
   "nbconvert_exporter": "python",
   "pygments_lexer": "ipython3",
   "version": "3.8.8"
  }
 },
 "nbformat": 4,
 "nbformat_minor": 5
}
