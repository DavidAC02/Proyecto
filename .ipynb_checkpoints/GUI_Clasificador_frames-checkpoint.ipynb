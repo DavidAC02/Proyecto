{
 "cells": [
  {
   "cell_type": "code",
   "execution_count": 1,
   "id": "25edafb5-a2e9-41ef-aefd-90f86c093815",
   "metadata": {},
   "outputs": [],
   "source": [
    "from tkinter import *\n",
    "from PIL import Image, ImageTk\n",
    "from tkinter import filedialog, Frame, ttk\n",
    "import cv2\n",
    "import os\n",
    "import numpy as np\n",
    "import matplotlib.pyplot as plt\n",
    "import pickle\n",
    "from sklearn.model_selection import train_test_split\n",
    "from sklearn.neighbors import KNeighborsClassifier\n",
    "import glob"
   ]
  },
  {
   "cell_type": "markdown",
   "id": "6d11f428-658b-4929-9ee7-62ed75099891",
   "metadata": {},
   "source": [
    "Cargamos el Dataset ya creado para entrenar un modelo"
   ]
  },
  {
   "cell_type": "code",
   "execution_count": 2,
   "id": "0027f256-5eb8-4ef1-a8b8-d54a1ff33fd3",
   "metadata": {},
   "outputs": [],
   "source": [
    "pickle_in = open('X.pickle','rb')\n",
    "X = pickle.load(pickle_in)\n",
    "pickle_in = open('y.pickle','rb')\n",
    "y = pickle.load(pickle_in)\n",
    "pickle_in = open('Z.pickle','rb')\n",
    "Z = pickle.load(pickle_in)"
   ]
  },
  {
   "cell_type": "code",
   "execution_count": 3,
   "id": "f1495131-dfd8-45a0-b569-95c26ecc98d9",
   "metadata": {},
   "outputs": [],
   "source": [
    "# Divido entre datos de entrenamiento y de prueba\n",
    "X_train, X_test, y_train, y_test, Z_train, Z_test = train_test_split(X, y, Z, stratify=y, random_state=0)"
   ]
  },
  {
   "cell_type": "code",
   "execution_count": 4,
   "id": "d651854f-3983-4630-91f9-cc8c29dce589",
   "metadata": {},
   "outputs": [
    {
     "data": {
      "text/plain": [
       "KNeighborsClassifier(n_neighbors=1)"
      ]
     },
     "execution_count": 4,
     "metadata": {},
     "output_type": "execute_result"
    }
   ],
   "source": [
    "#Entrenamos con knn\n",
    "knn = KNeighborsClassifier(n_neighbors=1)\n",
    "knn.fit(X_train, y_train)"
   ]
  },
  {
   "cell_type": "markdown",
   "id": "82d1f788-f02b-4770-b41d-097abd6d553b",
   "metadata": {},
   "source": [
    "Definimos funciones"
   ]
  },
  {
   "cell_type": "code",
   "execution_count": 5,
   "id": "8769c97c-42bf-4df1-8129-bc6267edb16c",
   "metadata": {},
   "outputs": [],
   "source": [
    "#Dada una imágen predice el tipo de sello de la misma y lo devuelve como string\n",
    "def predecir(imagen):\n",
    "    img = cv2.imread(imagen, cv2.IMREAD_GRAYSCALE)\n",
    "    img_N = cv2.resize(img,(140,140))\n",
    "    img_V = (np.asarray(img_N)).flatten()\n",
    "    #Dado un número nos dice cual es el tipo de sello al que está asociado ese número\n",
    "    #Esto lo queremos pues knn nos devuelve números y nosotros los expresamos con el tipo de sello\n",
    "    def clase(i):\n",
    "        n=''\n",
    "        if (i==0):\n",
    "            n='Dado'\n",
    "        if (i==1):\n",
    "            n='Dardo'\n",
    "        if (i==2):\n",
    "            n='Foco'\n",
    "        if (i==3):\n",
    "            n='Maceta'\n",
    "        if (i==4):\n",
    "            n='Oso'\n",
    "        if (i==5):\n",
    "            n='Pulpo'\n",
    "        if (i==6):\n",
    "            n='Rueda'\n",
    "        return n\n",
    "    return(clase(knn.predict([img_V])))                "
   ]
  },
  {
   "cell_type": "code",
   "execution_count": 6,
   "id": "8d587859-c28f-4b82-908a-003bdd7d5f4f",
   "metadata": {},
   "outputs": [],
   "source": [
    "#Dada una imágen la recorta en imágenes más pequeñas y las guarda en la carpeta usuario\n",
    "def recortar(imagen):\n",
    "    for im in glob.glob(\"Usuario/*.jpg\"):\n",
    "        try:\n",
    "            os.remove(im)\n",
    "        except OSError as e:\n",
    "            print(f\"Error:{ e.strerror}\")   \n",
    "    image = imagen#cv2.imread(imagen,cv2.IMREAD_GRAYSCALE)\n",
    "    gradX = cv2.Sobel(image, cv2.CV_32F, dx=1, dy=0, ksize=-1)\n",
    "    gradY = cv2.Sobel(image, cv2.CV_32F, dx=0, dy=1, ksize=-1)\n",
    "    gradient = cv2.subtract(gradX, gradY)\n",
    "    gradient = cv2.convertScaleAbs(gradient)\n",
    "    blurred = cv2.blur(gradient, (9, 9))\n",
    "    _, thresh = cv2.threshold(blurred, 90, 255, cv2.THRESH_BINARY)\n",
    "    kernel = cv2.getStructuringElement(cv2.MORPH_RECT, (25, 25))\n",
    "    closed = cv2.morphologyEx(thresh, cv2.MORPH_CLOSE, kernel)\n",
    "    closed = cv2.erode(closed, None, iterations=4)\n",
    "    closed = cv2.dilate(closed, None, iterations=4)\n",
    "    a=100\n",
    "    c=0\n",
    "    dimensionesf = (closed.shape[0],closed.shape[1])\n",
    "    while a>2:\n",
    "        (cntsf, xf) = cv2.findContours(closed.copy(), cv2.RETR_EXTERNAL, cv2.CHAIN_APPROX_SIMPLE)\n",
    "        cf = sorted(cntsf, key=cv2.contourArea, reverse=True)[0]\n",
    "        rectf = cv2.minAreaRect(cf)\n",
    "        boxf = np.int0(cv2.boxPoints(rectf))\n",
    "        Xsf = [i[0] for i in boxf]\n",
    "        Ysf = [i[1] for i in boxf]\n",
    "        x1f = min(Xsf)\n",
    "        x2f = max(Xsf)\n",
    "        y1f = min(Ysf)\n",
    "        y2f = max(Ysf)\n",
    "        cropImgf= image[y1f:y2f, x1f:x2f]\n",
    "        cv2.imwrite(\"Usuario/imagen\"+str(c)+\".jpg\", cropImgf)\n",
    "        b=0\n",
    "        arrayf=np.zeros(dimensionesf)\n",
    "        for i in range(closed.shape[1]):\n",
    "            for j in range(closed.shape[0]):\n",
    "                if (x1f < i < x2f and y1f < j < y2f):\n",
    "                    arrayf[j,i]=0\n",
    "                else:\n",
    "                    arrayf[j,i]=closed[j,i]\n",
    "        for i in range(closed.shape[1]):\n",
    "            for j in range(closed.shape[0]):\n",
    "                if (arrayf[j,i]>0):\n",
    "                    b=b+1\n",
    "        a=(b*100)/(closed.shape[0]*closed.shape[1])\n",
    "        c=c+1\n",
    "        closed= np.uint8(arrayf)"
   ]
  },
  {
   "cell_type": "code",
   "execution_count": 7,
   "id": "05c0a585-bb3e-40ec-acaa-32c570434c3f",
   "metadata": {},
   "outputs": [],
   "source": [
    "def info(i):\n",
    "    n=''\n",
    "    if (i=='Dado'):\n",
    "        n='Los Dados tienen 6 caras'\n",
    "    if (i=='Dardo'):\n",
    "        n='El Dardo'\n",
    "    if (i=='Foco'):\n",
    "        n='Foco 3'\n",
    "    if (i=='Maceta'):\n",
    "        n='Maceta 4'\n",
    "    if (i=='Oso'):\n",
    "        n='Oso 5'\n",
    "    if (i=='Pulpo'):\n",
    "        n='Pulpo 6'\n",
    "    if (i=='Rueda'):\n",
    "        n='Rueda 7'\n",
    "    return n"
   ]
  },
  {
   "cell_type": "markdown",
   "id": "b34756e1-5a5d-4693-98ff-c28d6a68a8e2",
   "metadata": {},
   "source": [
    "Interfaz gráfica"
   ]
  },
  {
   "cell_type": "code",
   "execution_count": 9,
   "id": "b60da1e1-65ba-455d-b599-1f334eba1b69",
   "metadata": {},
   "outputs": [],
   "source": [
    "def seleccionar_imagen():\n",
    "    pass\n",
    "    archivo = filedialog.askopenfilename(filetypes=(('Archivos de imagen', '*.png'),(\"jpeg files\",\"*.jpg\")))\n",
    "    \n",
    "    if archivo is not None:\n",
    "        for widget in second_frame.winfo_children():\n",
    "            widget.destroy()\n",
    "            \n",
    "        for widget in fimagen.winfo_children():\n",
    "            widget.destroy()\n",
    "            \n",
    "        imagen = Image.open(archivo)\n",
    "\n",
    "        imagen = imagen.resize((200, 200), Image.ANTIALIAS)\n",
    "\n",
    "        imagen = ImageTk.PhotoImage(imagen)\n",
    "            \n",
    "            \n",
    "        lbl_textimg=Label(fimagen,text='La imágen que seleccionaste:')\n",
    "        lbl_textimg.pack(pady=10)\n",
    "            \n",
    "        lbl_imagen = Label(fimagen, image=imagen)\n",
    "        lbl_imagen.image = imagen\n",
    "        lbl_imagen.pack(pady=10)\n",
    "            \n",
    "    if archivo is not None:\n",
    "        img = cv2.imread(archivo, cv2.IMREAD_GRAYSCALE)\n",
    "        recortar(img)\n",
    "        Numero=len(glob.glob(\"Usuario/*.jpg\"))\n",
    "        for i in range(Numero):\n",
    "            exec('imagen_{} = Image.open(\"Usuario/imagen\"+str(i)+\".jpg\")'.format(i))\n",
    "            exec('imagen_{} = imagen_{}.resize((60, 60), Image.ANTIALIAS)'.format(i,i))\n",
    "            exec('imagen_{} = ImageTk.PhotoImage(imagen_{})'.format(i,i))\n",
    "            exec('lbl_imagen_{} = Label(second_frame, image=imagen_{})'.format(i,i))\n",
    "            exec('lbl_imagen_{}.image = imagen_{}'.format(i,i))\n",
    "            exec('lbl_imagen_{}.grid(row=i+3, column=0,pady=10, padx=10)'.format(i))\n",
    "            exec('lbl_tipo_{}=Label(second_frame,text=\"La imágen es del tipo:\")'.format(i))\n",
    "            exec('lbl_tipo_{}.grid(row=i+3,column=1,sticky=E)'.format(i))\n",
    "            exec('lbl_img_{}=Label(second_frame,text=predecir(\"Usuario/imagen\"+str(i)+\".jpg\"),width=10)'.format(i))\n",
    "            exec('lbl_img_{}.config(bg=\"white\")'.format(i))\n",
    "            exec('lbl_img_{}.grid(row=i+3,column=2,pady=15, padx=10,sticky=W)'.format(i))\n",
    "            exec('lbl_inf_{}=Label(second_frame,text=info(predecir(\"Usuario/imagen\"+str(i)+\".jpg\")))'.format(i))\n",
    "            exec('lbl_inf_{}.grid(row=i+3,column=3)'.format(i))\n",
    "\n",
    "root=Tk()\n",
    "root.wm_title('Clasificador de imágenes')\n",
    "root.geometry('1000x500')\n",
    "\n",
    "fpedir=Frame(root, height=100, bg='cyan')\n",
    "fpedir.pack(fill='x')\n",
    "btn_seleccionar_imagen = Button(fpedir, text='Seleccionar imagen...', command=seleccionar_imagen)\n",
    "btn_seleccionar_imagen.pack(pady=15)\n",
    "        \n",
    "fcontenido = Frame(root,bg='yellow')\n",
    "fcontenido.pack(fill='both',expand=1)\n",
    "\n",
    "fderecha=Frame(fcontenido)#,bg='blue')\n",
    "fderecha.pack(side='right',fill='both',expand=1)\n",
    "fimagen=Frame(fcontenido)#,bg='red')\n",
    "fimagen.pack(side='left',fill='both',expand=1)\n",
    "my_canvas=Canvas(fderecha)#,bg='green')\n",
    "my_canvas.pack(side='left',fill='both',expand=1)\n",
    "\n",
    "my_scrollbar=ttk.Scrollbar(fderecha,orient='vertical',command=my_canvas.yview)\n",
    "my_scrollbar.pack(side='right',fill='y')\n",
    "\n",
    "my_canvas.configure(yscrollcommand=my_scrollbar.set)\n",
    "my_canvas.bind('<Configure>', lambda e: my_canvas.configure(scrollregion=my_canvas.bbox('all')))\n",
    "\n",
    "second_frame=Frame(my_canvas)#,bg='green')\n",
    "second_frame.pack(side='right',fill='both',expand=1)\n",
    "\n",
    "my_canvas.create_window((0,0),window=second_frame, anchor='nw')\n",
    "\n",
    "root.mainloop()"
   ]
  }
 ],
 "metadata": {
  "kernelspec": {
   "display_name": "Python 3",
   "language": "python",
   "name": "python3"
  },
  "language_info": {
   "codemirror_mode": {
    "name": "ipython",
    "version": 3
   },
   "file_extension": ".py",
   "mimetype": "text/x-python",
   "name": "python",
   "nbconvert_exporter": "python",
   "pygments_lexer": "ipython3",
   "version": "3.8.8"
  }
 },
 "nbformat": 4,
 "nbformat_minor": 5
}
