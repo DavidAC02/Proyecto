{
 "cells": [
  {
   "cell_type": "code",
   "execution_count": 3,
   "id": "25edafb5-a2e9-41ef-aefd-90f86c093815",
   "metadata": {},
   "outputs": [],
   "source": [
    "from tkinter import *\n",
    "from PIL import Image, ImageTk\n",
    "from tkinter import filedialog, Frame\n",
    "import cv2\n",
    "import os\n",
    "import numpy as np\n",
    "import matplotlib.pyplot as plt\n",
    "import pickle\n",
    "from sklearn.model_selection import train_test_split\n",
    "from sklearn.neighbors import KNeighborsClassifier\n",
    "import glob"
   ]
  },
  {
   "cell_type": "markdown",
   "id": "6d11f428-658b-4929-9ee7-62ed75099891",
   "metadata": {},
   "source": [
    "Cargamos el Dataset ya creado para entrenar un modelo"
   ]
  },
  {
   "cell_type": "code",
   "execution_count": 57,
   "id": "0027f256-5eb8-4ef1-a8b8-d54a1ff33fd3",
   "metadata": {},
   "outputs": [],
   "source": [
    "pickle_in = open('X.pickle','rb')\n",
    "X = pickle.load(pickle_in)\n",
    "pickle_in = open('y.pickle','rb')\n",
    "y = pickle.load(pickle_in)\n",
    "pickle_in = open('Z.pickle','rb')\n",
    "Z = pickle.load(pickle_in)"
   ]
  },
  {
   "cell_type": "code",
   "execution_count": 5,
   "id": "f1495131-dfd8-45a0-b569-95c26ecc98d9",
   "metadata": {},
   "outputs": [],
   "source": [
    "# Divido entre datos de entrenamiento y de prueba\n",
    "X_train, X_test, y_train, y_test, Z_train, Z_test = train_test_split(X, y, Z, stratify=y, random_state=0)"
   ]
  },
  {
   "cell_type": "code",
   "execution_count": 6,
   "id": "d651854f-3983-4630-91f9-cc8c29dce589",
   "metadata": {},
   "outputs": [
    {
     "data": {
      "text/plain": [
       "KNeighborsClassifier(n_neighbors=1)"
      ]
     },
     "execution_count": 6,
     "metadata": {},
     "output_type": "execute_result"
    }
   ],
   "source": [
    "#Entrenamos con knn\n",
    "knn = KNeighborsClassifier(n_neighbors=1)\n",
    "knn.fit(X_train, y_train)"
   ]
  },
  {
   "cell_type": "markdown",
   "id": "82d1f788-f02b-4770-b41d-097abd6d553b",
   "metadata": {},
   "source": [
    "Definimos funciones"
   ]
  },
  {
   "cell_type": "code",
   "execution_count": 7,
   "id": "bce32ce1-56b5-42e4-aa2c-783c99af4858",
   "metadata": {},
   "outputs": [],
   "source": [
    "#Dado un número nos dice cual es el tipo de sello al que está asociado ese número\n",
    "#Esto lo queremos pues knn nos devuelve números y nosotros los expresamos con el tipo de sello\n",
    "def clase(i):\n",
    "    n=''\n",
    "    if (i==0):\n",
    "        n='Dado'\n",
    "    if (i==1):\n",
    "        n='Dardo'\n",
    "    if (i==2):\n",
    "        n='Foco'\n",
    "    if (i==3):\n",
    "        n='Maceta'\n",
    "    if (i==4):\n",
    "        n='Oso'\n",
    "    if (i==5):\n",
    "        n='Pulpo'\n",
    "    if (i==6):\n",
    "        n='Rueda'\n",
    "    return n"
   ]
  },
  {
   "cell_type": "code",
   "execution_count": 8,
   "id": "8769c97c-42bf-4df1-8129-bc6267edb16c",
   "metadata": {},
   "outputs": [],
   "source": [
    "#Dada una imágen predice el tipo de sello que ocupa y lo devuelve como string\n",
    "def predecir(imagen):\n",
    "    img = cv2.imread(imagen, cv2.IMREAD_GRAYSCALE)\n",
    "    img_N = cv2.resize(img,(140,140))\n",
    "    img_V = (np.asarray(img_N)).flatten()\n",
    "    prediccion = knn.predict([img_V])\n",
    "    for i in range(7):\n",
    "        if (prediccion==i):\n",
    "            p=clase(i)\n",
    "    return(p)                "
   ]
  },
  {
   "cell_type": "code",
   "execution_count": 15,
   "id": "8d587859-c28f-4b82-908a-003bdd7d5f4f",
   "metadata": {},
   "outputs": [],
   "source": [
    "#Dada una imágen la recorta en imágenes más pequeñas y las guarda en la carpeta usuario\n",
    "def recortar(imagen):\n",
    "    for im in glob.glob(\"Usuario/*.jpg\"):\n",
    "        try:\n",
    "            os.remove(im)\n",
    "        except OSError as e:\n",
    "            print(f\"Error:{ e.strerror}\")   \n",
    "    image = imagen\n",
    "    gradX = cv2.Sobel(image, cv2.CV_32F, dx=1, dy=0, ksize=-1)\n",
    "    gradY = cv2.Sobel(image, cv2.CV_32F, dx=0, dy=1, ksize=-1)\n",
    "    gradient = cv2.subtract(gradX, gradY)\n",
    "    gradient = cv2.convertScaleAbs(gradient)\n",
    "    blurred = cv2.blur(gradient, (9, 9))\n",
    "    _, thresh = cv2.threshold(blurred, 90, 255, cv2.THRESH_BINARY)\n",
    "    kernel = cv2.getStructuringElement(cv2.MORPH_RECT, (25, 25))\n",
    "    closed = cv2.morphologyEx(thresh, cv2.MORPH_CLOSE, kernel)\n",
    "    closed = cv2.erode(closed, None, iterations=4)\n",
    "    closed = cv2.dilate(closed, None, iterations=4)\n",
    "    a=100\n",
    "    c=0\n",
    "    Imagen=closed\n",
    "    while a>2:\n",
    "        (cntsf, xf) = cv2.findContours(Imagen.copy(), cv2.RETR_EXTERNAL, cv2.CHAIN_APPROX_SIMPLE)\n",
    "        cf = sorted(cntsf, key=cv2.contourArea, reverse=True)[0]\n",
    "        rectf = cv2.minAreaRect(cf)\n",
    "        boxf = np.int0(cv2.boxPoints(rectf))\n",
    "        Xsf = [i[0] for i in boxf]\n",
    "        Ysf = [i[1] for i in boxf]\n",
    "        x1f = min(Xsf)\n",
    "        x2f = max(Xsf)\n",
    "        y1f = min(Ysf)\n",
    "        y2f = max(Ysf)\n",
    "        cropImgf= image[y1f:y2f, x1f:x2f]\n",
    "        A=str(c)\n",
    "        cv2.imwrite(\"Usuario/imagen\"+A+\".jpg\", cropImgf)\n",
    "        b=0\n",
    "        dimensionesf = (closed.shape[0],closed.shape[1])\n",
    "        arrayf=np.zeros(dimensionesf)\n",
    "        for i in range(closed.shape[1]):\n",
    "            for j in range(closed.shape[0]):\n",
    "                if (x1f < i < x2f and y1f < j < y2f):\n",
    "                    arrayf[j,i]=0\n",
    "                else:\n",
    "                    arrayf[j,i]=Imagen[j,i]\n",
    "        for i in range(closed.shape[1]):\n",
    "            for j in range(closed.shape[0]):\n",
    "                if (arrayf[j,i]>0):\n",
    "                    b=b+1\n",
    "        a=(b*100)/(closed.shape[0]*closed.shape[1])\n",
    "        c=c+1\n",
    "        Imagen= np.uint8(arrayf)"
   ]
  },
  {
   "cell_type": "code",
   "execution_count": null,
   "id": "d918661b-358d-452a-a9d9-9283cb3ca204",
   "metadata": {},
   "outputs": [],
   "source": [
    "Interfaz gráfica"
   ]
  },
  {
   "cell_type": "code",
   "execution_count": 16,
   "id": "05c0a585-bb3e-40ec-acaa-32c570434c3f",
   "metadata": {},
   "outputs": [],
   "source": [
    "#Aquí creamos la clase que va a crear la interfaz gráfica\n",
    "class SelectorImagenes:\n",
    "    def __init__(self, master):\n",
    "        self.master = master\n",
    "        self.inicializar_gui()\n",
    "    \n",
    "    def inicializar_gui(self):\n",
    "        btn_seleccionar_imagen = Button(self.master, text='Seleccionar imagen...', command=self.seleccionar_imagen)\n",
    "        btn_seleccionar_imagen.grid(row=0, column=0,columnspan=2, pady=15, padx=200)\n",
    "\n",
    "    def seleccionar_imagen(self):\n",
    "        pass\n",
    "        archivo = filedialog.askopenfilename(filetypes=[('Archivos de imagen', '*.png')])\n",
    "\n",
    "        if archivo is not None:\n",
    "            imagen = Image.open(archivo)\n",
    "\n",
    "            imagen = imagen.resize((200, 200), Image.ANTIALIAS)\n",
    "\n",
    "            imagen = ImageTk.PhotoImage(imagen)\n",
    "            \n",
    "            lbl_imagen = Label(self.master, image=imagen)\n",
    "            lbl_imagen.image = imagen\n",
    "            lbl_imagen.grid(row=1, column=1,columnspan=2,pady=10, padx=10)\n",
    "            lbl_textimg=Label(self.master,text='La imágen que seleccionaste:')\n",
    "            lbl_textimg.grid(row=1,column=0,pady=15,padx=15)\n",
    "\n",
    "        if archivo is not None:\n",
    "            img = cv2.imread(archivo, cv2.IMREAD_GRAYSCALE)\n",
    "            recortar(img)\n",
    "            Numero=len(glob.glob(\"Usuario/*.jpg\"))\n",
    "            for i in range(Numero):\n",
    "                #I=str(i)\n",
    "                exec('imagen_{} = Image.open(\"Usuario/imagen\"+str(i)+\".jpg\")'.format(i))\n",
    "                exec('imagen_{} = imagen_{}.resize((60, 60), Image.ANTIALIAS)'.format(i,i))\n",
    "                exec('imagen_{} = ImageTk.PhotoImage(imagen_{})'.format(i,i))\n",
    "\n",
    "                exec('lbl_imagen_{} = Label(self.master, image=imagen_{})'.format(i,i))\n",
    "                exec('lbl_imagen_{}.image = imagen_{}'.format(i,i))\n",
    "                exec('lbl_imagen_{}.grid(row=i+3, column=0,pady=10, padx=10)'.format(i))\n",
    "                \n",
    "                exec('img_{}=predecir(\"Usuario/imagen\"+str(i)+\".jpg\")'.format(i))\n",
    "                exec('lbl_tipo_{}=Label(self.master,text=\"La imágen es del tipo:\")'.format(i))\n",
    "                exec('lbl_tipo_{}.grid(row=i+3,column=1,sticky=E)'.format(i))\n",
    "                exec('lbl_img_{}=Label(self.master,text=img_{},width=10)'.format(i,i))\n",
    "                exec('lbl_img_{}.config(bg=\"white\")'.format(i))\n",
    "                exec('lbl_img_{}.grid(row=i+3,column=2,pady=15, padx=10,sticky=W)'.format(i))"
   ]
  },
  {
   "cell_type": "code",
   "execution_count": 17,
   "id": "cd484588-c145-4c2b-9788-d369bec6d074",
   "metadata": {},
   "outputs": [
    {
     "ename": "KeyboardInterrupt",
     "evalue": "",
     "output_type": "error",
     "traceback": [
      "\u001b[1;31m---------------------------------------------------------------------------\u001b[0m",
      "\u001b[1;31mKeyboardInterrupt\u001b[0m                         Traceback (most recent call last)",
      "\u001b[1;32m<ipython-input-17-dcb80f548b77>\u001b[0m in \u001b[0;36m<module>\u001b[1;34m\u001b[0m\n\u001b[0;32m      8\u001b[0m     \u001b[0mmaster\u001b[0m\u001b[1;33m.\u001b[0m\u001b[0mmainloop\u001b[0m\u001b[1;33m(\u001b[0m\u001b[1;33m)\u001b[0m\u001b[1;33m\u001b[0m\u001b[1;33m\u001b[0m\u001b[0m\n\u001b[0;32m      9\u001b[0m \u001b[1;32mif\u001b[0m \u001b[0m__name__\u001b[0m \u001b[1;33m==\u001b[0m \u001b[1;34m\"__main__\"\u001b[0m\u001b[1;33m:\u001b[0m\u001b[1;33m\u001b[0m\u001b[1;33m\u001b[0m\u001b[0m\n\u001b[1;32m---> 10\u001b[1;33m     \u001b[0mmain\u001b[0m\u001b[1;33m(\u001b[0m\u001b[1;33m)\u001b[0m\u001b[1;33m\u001b[0m\u001b[1;33m\u001b[0m\u001b[0m\n\u001b[0m",
      "\u001b[1;32m<ipython-input-17-dcb80f548b77>\u001b[0m in \u001b[0;36mmain\u001b[1;34m()\u001b[0m\n\u001b[0;32m      6\u001b[0m     \u001b[1;31m#master.config(bg='white')\u001b[0m\u001b[1;33m\u001b[0m\u001b[1;33m\u001b[0m\u001b[1;33m\u001b[0m\u001b[0m\n\u001b[0;32m      7\u001b[0m     \u001b[0mventana\u001b[0m \u001b[1;33m=\u001b[0m \u001b[0mSelectorImagenes\u001b[0m\u001b[1;33m(\u001b[0m\u001b[0mmaster\u001b[0m\u001b[1;33m)\u001b[0m\u001b[1;33m\u001b[0m\u001b[1;33m\u001b[0m\u001b[0m\n\u001b[1;32m----> 8\u001b[1;33m     \u001b[0mmaster\u001b[0m\u001b[1;33m.\u001b[0m\u001b[0mmainloop\u001b[0m\u001b[1;33m(\u001b[0m\u001b[1;33m)\u001b[0m\u001b[1;33m\u001b[0m\u001b[1;33m\u001b[0m\u001b[0m\n\u001b[0m\u001b[0;32m      9\u001b[0m \u001b[1;32mif\u001b[0m \u001b[0m__name__\u001b[0m \u001b[1;33m==\u001b[0m \u001b[1;34m\"__main__\"\u001b[0m\u001b[1;33m:\u001b[0m\u001b[1;33m\u001b[0m\u001b[1;33m\u001b[0m\u001b[0m\n\u001b[0;32m     10\u001b[0m     \u001b[0mmain\u001b[0m\u001b[1;33m(\u001b[0m\u001b[1;33m)\u001b[0m\u001b[1;33m\u001b[0m\u001b[1;33m\u001b[0m\u001b[0m\n",
      "\u001b[1;32m~\\anaconda3\\lib\\tkinter\\__init__.py\u001b[0m in \u001b[0;36mmainloop\u001b[1;34m(self, n)\u001b[0m\n\u001b[0;32m   1427\u001b[0m     \u001b[1;32mdef\u001b[0m \u001b[0mmainloop\u001b[0m\u001b[1;33m(\u001b[0m\u001b[0mself\u001b[0m\u001b[1;33m,\u001b[0m \u001b[0mn\u001b[0m\u001b[1;33m=\u001b[0m\u001b[1;36m0\u001b[0m\u001b[1;33m)\u001b[0m\u001b[1;33m:\u001b[0m\u001b[1;33m\u001b[0m\u001b[1;33m\u001b[0m\u001b[0m\n\u001b[0;32m   1428\u001b[0m         \u001b[1;34m\"\"\"Call the mainloop of Tk.\"\"\"\u001b[0m\u001b[1;33m\u001b[0m\u001b[1;33m\u001b[0m\u001b[0m\n\u001b[1;32m-> 1429\u001b[1;33m         \u001b[0mself\u001b[0m\u001b[1;33m.\u001b[0m\u001b[0mtk\u001b[0m\u001b[1;33m.\u001b[0m\u001b[0mmainloop\u001b[0m\u001b[1;33m(\u001b[0m\u001b[0mn\u001b[0m\u001b[1;33m)\u001b[0m\u001b[1;33m\u001b[0m\u001b[1;33m\u001b[0m\u001b[0m\n\u001b[0m\u001b[0;32m   1430\u001b[0m \u001b[1;33m\u001b[0m\u001b[0m\n\u001b[0;32m   1431\u001b[0m     \u001b[1;32mdef\u001b[0m \u001b[0mquit\u001b[0m\u001b[1;33m(\u001b[0m\u001b[0mself\u001b[0m\u001b[1;33m)\u001b[0m\u001b[1;33m:\u001b[0m\u001b[1;33m\u001b[0m\u001b[1;33m\u001b[0m\u001b[0m\n",
      "\u001b[1;31mKeyboardInterrupt\u001b[0m: "
     ]
    }
   ],
   "source": [
    "def main():\n",
    "    master = Tk()\n",
    "    master.title('Clasificador de imagenes')\n",
    "    master.geometry('500x500')\n",
    "    master.resizable(width=True, height=True)\n",
    "    #master.config(bg='white')\n",
    "    ventana = SelectorImagenes(master)\n",
    "    master.mainloop()\n",
    "if __name__ == \"__main__\":\n",
    "    main()"
   ]
  },
  {
   "cell_type": "code",
   "execution_count": 60,
   "id": "9928a42f-17ac-4871-b7a2-eb1985c31a19",
   "metadata": {},
   "outputs": [],
   "source": [
    "class Clasificador(Frame):\n",
    "    def __init__(self,master=None):\n",
    "        super().__init__(master,width=500,height=500,bg='#F1F8EC')\n",
    "        self.master=master\n",
    "        self.pack()\n",
    "        self.pedir_imagen()\n",
    "    \n",
    "    def pedir_imagen(self):\n",
    "        fpedir=Frame(self, height=100, bg='blue')\n",
    "        fpedir.pack(expand=True)#grid(row=0,column=0,columnspan=2)\n",
    "        btn_seleccionar_imagen = Button(fpedir, text='Seleccionar imagen...', command=self.seleccionar_imagen)\n",
    "        btn_seleccionar_imagen.grid(row=0, column=0,columnspan=2, pady=15, padx=200)\n",
    "\n",
    "    def seleccionar_imagen(self):\n",
    "        pass\n",
    "        archivo = filedialog.askopenfilename(filetypes=[('Archivos de imagen', '*.png')])\n",
    "        fimagen=Frame(self,width='200', height='600',bg='red')\n",
    "        fresultado=Frame(self,width='700', height='600',bg='yellow')\n",
    "\n",
    "\n",
    "        fimagen.pack(side='left')\n",
    "        fresultado.pack(side='right')\n",
    "\n",
    "        if archivo is not None:\n",
    "            imagen = Image.open(archivo)\n",
    "\n",
    "            imagen = imagen.resize((200, 200), Image.ANTIALIAS)\n",
    "\n",
    "            imagen = ImageTk.PhotoImage(imagen)\n",
    "            \n",
    "            lbl_imagen = Label(fimagen, image=imagen)\n",
    "            lbl_imagen.image = imagen\n",
    "            lbl_imagen.grid(row=1, column=1,columnspan=2,pady=10, padx=10)\n",
    "            lbl_textimg=Label(fimagen,text='La imágen que seleccionaste:')\n",
    "            lbl_textimg.grid(row=1,column=0,pady=15,padx=15)\n",
    "\n",
    "        if archivo is not None:\n",
    "            img = cv2.imread(archivo, cv2.IMREAD_GRAYSCALE)\n",
    "            recortar(img)\n",
    "            Numero=len(glob.glob(\"Usuario/*.jpg\"))\n",
    "            for i in range(Numero):\n",
    "                exec('imagen_{} = Image.open(\"Usuario/imagen\"+str(i)+\".jpg\")'.format(i))\n",
    "                exec('imagen_{} = imagen_{}.resize((60, 60), Image.ANTIALIAS)'.format(i,i))\n",
    "                exec('imagen_{} = ImageTk.PhotoImage(imagen_{})'.format(i,i))\n",
    "\n",
    "                exec('lbl_imagen_{} = Label(fresultado, image=imagen_{})'.format(i,i))\n",
    "                exec('lbl_imagen_{}.image = imagen_{}'.format(i,i))\n",
    "                exec('lbl_imagen_{}.grid(row=i+3, column=0,pady=10, padx=10)'.format(i))\n",
    "                \n",
    "                exec('img_{}=predecir(\"Usuario/imagen\"+str(i)+\".jpg\")'.format(i))\n",
    "                exec('lbl_tipo_{}=Label(fresultado,text=\"La imágen es del tipo:\")'.format(i))\n",
    "                exec('lbl_tipo_{}.grid(row=i+3,column=1,sticky=E)'.format(i))\n",
    "                exec('lbl_img_{}=Label(fresultado,text=img_{},width=10)'.format(i,i))\n",
    "                exec('lbl_img_{}.config(bg=\"white\")'.format(i))\n",
    "                exec('lbl_img_{}.grid(row=i+3,column=2,pady=15, padx=10,sticky=W)'.format(i))\n",
    "root=Tk()\n",
    "root.wm_title('Clasificador de imágenes')\n",
    "app=Clasificador(root)\n",
    "app.mainloop()"
   ]
  },
  {
   "cell_type": "code",
   "execution_count": 41,
   "id": "c4478886-48f0-4599-9411-be3dbb30cdd2",
   "metadata": {},
   "outputs": [],
   "source": [
    "Ventana=Tk()\n",
    "Ventana.title('Clasificador de imágenes')\n",
    "Ventana.geometry('1300x800')\n",
    "Ventana.resizable(width=True, height=True)\n",
    "fpedirimagen=Frame(Ventana,width='800', height='100',bg='blue')\n",
    "fimagen=Frame(Ventana,width='200', height='600',bg='red')\n",
    "fresultados=Frame(Ventana,width='700', height='600',bg='yellow')\n",
    "\n",
    "fpedirimagen.pack()\n",
    "fimagen.pack(side='left')\n",
    "fresultados.pack(side='right')\n",
    "Ventana.mainloop()"
   ]
  },
  {
   "cell_type": "code",
   "execution_count": null,
   "id": "b60da1e1-65ba-455d-b599-1f334eba1b69",
   "metadata": {},
   "outputs": [],
   "source": []
  },
  {
   "cell_type": "code",
   "execution_count": null,
   "id": "76e471a9-b59d-4cfc-a7ca-0bd7204d347d",
   "metadata": {},
   "outputs": [],
   "source": []
  }
 ],
 "metadata": {
  "kernelspec": {
   "display_name": "Python 3",
   "language": "python",
   "name": "python3"
  },
  "language_info": {
   "codemirror_mode": {
    "name": "ipython",
    "version": 3
   },
   "file_extension": ".py",
   "mimetype": "text/x-python",
   "name": "python",
   "nbconvert_exporter": "python",
   "pygments_lexer": "ipython3",
   "version": "3.8.8"
  }
 },
 "nbformat": 4,
 "nbformat_minor": 5
}
