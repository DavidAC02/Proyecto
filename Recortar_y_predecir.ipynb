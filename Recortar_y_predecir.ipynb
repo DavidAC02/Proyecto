{
 "cells": [
  {
   "cell_type": "code",
   "execution_count": 1,
   "id": "7f33ad60-1e9c-4c5f-933b-817ce4504caf",
   "metadata": {},
   "outputs": [],
   "source": [
    "from tkinter import *\n",
    "from PIL import Image, ImageTk\n",
    "#from tkinter import filedialog\n",
    "import cv2\n",
    "import os\n",
    "import numpy as np\n",
    "import matplotlib.pyplot as plt\n",
    "#import random\n",
    "import pickle\n",
    "from sklearn.model_selection import train_test_split\n",
    "from sklearn.neighbors import KNeighborsClassifier\n",
    "#from sklearn.decomposition import PCA\n",
    "import glob"
   ]
  },
  {
   "cell_type": "code",
   "execution_count": 2,
   "id": "6a60b4c5-625e-4c13-bf1f-d686bcfe7064",
   "metadata": {},
   "outputs": [],
   "source": [
    "pickle_in = open('X.pickle','rb')\n",
    "X = pickle.load(pickle_in)\n",
    "pickle_in = open('y.pickle','rb')\n",
    "y = pickle.load(pickle_in)\n",
    "pickle_in = open('Z.pickle','rb')\n",
    "Z = pickle.load(pickle_in)"
   ]
  },
  {
   "cell_type": "code",
   "execution_count": 3,
   "id": "89d4699d-6a27-4454-b6b1-f8fc2cf0c8e4",
   "metadata": {},
   "outputs": [
    {
     "data": {
      "text/plain": [
       "KNeighborsClassifier(n_neighbors=1)"
      ]
     },
     "execution_count": 3,
     "metadata": {},
     "output_type": "execute_result"
    }
   ],
   "source": [
    "X_train, X_test, y_train, y_test, Z_train, Z_test = train_test_split(X, y, Z, stratify=y, random_state=0)\n",
    "knn = KNeighborsClassifier(n_neighbors=1)\n",
    "knn.fit(X_train, y_train)"
   ]
  },
  {
   "cell_type": "code",
   "execution_count": 4,
   "id": "7472aef5-688e-48e3-9f9f-96a9a040d6d1",
   "metadata": {},
   "outputs": [],
   "source": [
    "def recortar(imagen):\n",
    "    for im in glob.glob(\"Usuario/*.jpg\"):\n",
    "        try:\n",
    "            os.remove(im)\n",
    "        except OSError as e:\n",
    "            print(f\"Error:{ e.strerror}\")   \n",
    "    image = imagen\n",
    "    gradX = cv2.Sobel(image, cv2.CV_32F, dx=1, dy=0, ksize=-1)\n",
    "    gradY = cv2.Sobel(image, cv2.CV_32F, dx=0, dy=1, ksize=-1)\n",
    "    gradient = cv2.subtract(gradX, gradY)\n",
    "    gradient = cv2.convertScaleAbs(gradient)\n",
    "    blurred = cv2.blur(gradient, (9, 9))\n",
    "    _, thresh = cv2.threshold(blurred, 90, 255, cv2.THRESH_BINARY)\n",
    "    kernel = cv2.getStructuringElement(cv2.MORPH_RECT, (25, 25))\n",
    "    closed = cv2.morphologyEx(thresh, cv2.MORPH_CLOSE, kernel)\n",
    "    closed = cv2.erode(closed, None, iterations=4)\n",
    "    closed = cv2.dilate(closed, None, iterations=4)\n",
    "    a=100\n",
    "    c=0\n",
    "    Imagen=closed\n",
    "    while a>2:\n",
    "        (cntsf, xf) = cv2.findContours(Imagen.copy(), cv2.RETR_EXTERNAL, cv2.CHAIN_APPROX_SIMPLE)\n",
    "        cf = sorted(cntsf, key=cv2.contourArea, reverse=True)[0]\n",
    "        rectf = cv2.minAreaRect(cf)\n",
    "        boxf = np.int0(cv2.boxPoints(rectf))\n",
    "        Xsf = [i[0] for i in boxf]\n",
    "        Ysf = [i[1] for i in boxf]\n",
    "        x1f = min(Xsf)\n",
    "        x2f = max(Xsf)\n",
    "        y1f = min(Ysf)\n",
    "        y2f = max(Ysf)\n",
    "        cropImgf= image[y1f:y2f, x1f:x2f]\n",
    "        #plt.imshow(cropImgf)\n",
    "        A=str(c)\n",
    "        cv2.imwrite(\"Usuario/imagen\"+A+\".jpg\", cropImgf)\n",
    "        #HASTA AQUI SE HIZO TODO UNA VEZ\n",
    "        b=0\n",
    "        dimensionesf = (closed.shape[0],closed.shape[1])\n",
    "        arrayf=np.zeros(dimensionesf)\n",
    "        for i in range(closed.shape[1]):\n",
    "            for j in range(closed.shape[0]):\n",
    "                if (x1f < i < x2f and y1f < j < y2f):\n",
    "                    arrayf[j,i]=0\n",
    "                else:\n",
    "                    arrayf[j,i]=Imagen[j,i]\n",
    "        for i in range(closed.shape[1]):\n",
    "            for j in range(closed.shape[0]):\n",
    "                if (arrayf[j,i]>0):\n",
    "                    b=b+1\n",
    "        a=(b*100)/(closed.shape[0]*closed.shape[1])\n",
    "        c=c+1\n",
    "        Imagen= np.uint8(arrayf)"
   ]
  },
  {
   "cell_type": "code",
   "execution_count": 5,
   "id": "356be5dd-045f-46b7-9273-621c73af55c9",
   "metadata": {},
   "outputs": [],
   "source": [
    "def clase(i):\n",
    "    n=''\n",
    "    if (i==0):\n",
    "        n='Dado'\n",
    "    if (i==1):\n",
    "        n='Dardo'\n",
    "    if (i==2):\n",
    "        n='Foco'\n",
    "    if (i==3):\n",
    "        n='Maceta'\n",
    "    if (i==4):\n",
    "        n='Oso'\n",
    "    if (i==5):\n",
    "        n='Pulpo'\n",
    "    if (i==6):\n",
    "        n='Rueda'\n",
    "    return n"
   ]
  },
  {
   "cell_type": "code",
   "execution_count": 6,
   "id": "8ed60b84-252b-437b-8143-1296305e8124",
   "metadata": {},
   "outputs": [],
   "source": [
    "def predecir(imagen):\n",
    "    img = cv2.imread(imagen, cv2.IMREAD_GRAYSCALE)\n",
    "    img_N = cv2.resize(img,(140,140))\n",
    "    img_V = (np.asarray(img_N)).flatten()\n",
    "    prediccion = knn.predict([img_V])\n",
    "    for i in range(7):\n",
    "        if (prediccion==i):\n",
    "            p=clase(i)\n",
    "    return(p)       "
   ]
  },
  {
   "cell_type": "code",
   "execution_count": 7,
   "id": "e76ae469-00ee-40bb-933f-288e66d92546",
   "metadata": {},
   "outputs": [],
   "source": [
    "img = cv2.imread('pulpo.png', cv2.IMREAD_GRAYSCALE)"
   ]
  },
  {
   "cell_type": "code",
   "execution_count": null,
   "id": "34b4c7d4-499a-43f2-ab7e-437b7f3e72c5",
   "metadata": {},
   "outputs": [],
   "source": [
    "recortar(img)"
   ]
  },
  {
   "cell_type": "code",
   "execution_count": null,
   "id": "eb8a770c-09e3-4544-acdd-da21052fcab2",
   "metadata": {},
   "outputs": [],
   "source": [
    "Numero=len(glob.glob(\"Usuario/*.jpg\"))\n",
    "for i in range(Numero):\n",
    "    I=str(i)\n",
    "    exec('img_{}=predecir(\"Usuario/imagen\"+I+\".jpg\")'.format(i))\n",
    "#for i in range(Numero):\n",
    "    exec('print(img_{})'.format(i))\n"
   ]
  },
  {
   "cell_type": "code",
   "execution_count": null,
   "id": "9193912f-fa7f-421d-a22e-994346fb62e9",
   "metadata": {},
   "outputs": [],
   "source": [
    "img_0"
   ]
  }
 ],
 "metadata": {
  "kernelspec": {
   "display_name": "Python 3",
   "language": "python",
   "name": "python3"
  },
  "language_info": {
   "codemirror_mode": {
    "name": "ipython",
    "version": 3
   },
   "file_extension": ".py",
   "mimetype": "text/x-python",
   "name": "python",
   "nbconvert_exporter": "python",
   "pygments_lexer": "ipython3",
   "version": "3.8.8"
  }
 },
 "nbformat": 4,
 "nbformat_minor": 5
}
